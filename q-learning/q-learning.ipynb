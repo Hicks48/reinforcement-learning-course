{
 "cells": [
  {
   "cell_type": "markdown",
   "metadata": {},
   "source": [
    "# Q-Learning"
   ]
  },
  {
   "cell_type": "markdown",
   "metadata": {},
   "source": [
    "## Math Helpers"
   ]
  },
  {
   "cell_type": "code",
   "execution_count": 1,
   "metadata": {},
   "outputs": [],
   "source": [
    "def lerp(start, end, x):\n",
    "    return (x * end) + ((1 - x) * start)"
   ]
  },
  {
   "cell_type": "code",
   "execution_count": 2,
   "metadata": {},
   "outputs": [
    {
     "name": "stderr",
     "output_type": "stream",
     "text": [
      ".....\n",
      "----------------------------------------------------------------------\n",
      "Ran 5 tests in 0.030s\n",
      "\n",
      "OK\n"
     ]
    }
   ],
   "source": [
    "import unittest\n",
    "\n",
    "class MathHelperTest(unittest.TestCase):\n",
    "    \n",
    "    def test_lerp_0(self):\n",
    "        self.assertEqual(lerp(-2, 2, 0), -2)\n",
    "    \n",
    "    def test_lerp_25(self):\n",
    "        self.assertEqual(lerp(-2, 2, 0.25), -1)\n",
    "    \n",
    "    def test_lerp_75(self):\n",
    "        self.assertEqual(lerp(-2, 2, 0.75), 1)\n",
    "        \n",
    "    def test_lerp_1(self):\n",
    "        self.assertEqual(lerp(-2, 2, 1), 2)\n",
    "        \n",
    "    def test_lerp_backwards(self):\n",
    "        self.assertEqual(lerp(2, -2, 0.25), 1)\n",
    "        \n",
    "if __name__ == '__main__':\n",
    "    unittest.main(argv=[''], exit=False)\n"
   ]
  },
  {
   "cell_type": "markdown",
   "metadata": {},
   "source": [
    "## Replay Memory"
   ]
  },
  {
   "cell_type": "markdown",
   "metadata": {},
   "source": [
    "Replay memory stores given `capacity` amount of transitions in a buffer. It provides methods for pushing new transitions and sampling a minibatch."
   ]
  },
  {
   "cell_type": "markdown",
   "metadata": {},
   "source": [
    "### Implementation"
   ]
  },
  {
   "cell_type": "code",
   "execution_count": 3,
   "metadata": {},
   "outputs": [],
   "source": [
    "from collections import deque\n",
    "import numpy as np\n",
    "\n",
    "class ReplayMemory(object):\n",
    "    \n",
    "    def __init__(self, capacity):\n",
    "        self.capacity = capacity\n",
    "        self.clear()\n",
    "    \n",
    "    def clear(self):\n",
    "        self.memory = deque(maxlen=self.capacity)\n",
    "    \n",
    "    def push(self, transition):\n",
    "        self.memory.appendleft(transition)\n",
    "    \n",
    "    def sample(self, size, withReplacement=False):\n",
    "        if size > len(self.memory) and not withReplacement:\n",
    "            return None\n",
    "        \n",
    "        indecies = np.random.choice(len(self.memory), size, replace=withReplacement)\n",
    "        return np.array(list(self.memory))[indecies]\n"
   ]
  },
  {
   "cell_type": "markdown",
   "metadata": {},
   "source": [
    "### Tests"
   ]
  },
  {
   "cell_type": "code",
   "execution_count": 4,
   "metadata": {},
   "outputs": [
    {
     "name": "stderr",
     "output_type": "stream",
     "text": [
      "............\n",
      "----------------------------------------------------------------------\n",
      "Ran 12 tests in 0.043s\n",
      "\n",
      "OK\n"
     ]
    }
   ],
   "source": [
    "import unittest\n",
    "\n",
    "class ReplayMemoryTest(unittest.TestCase):\n",
    "    \n",
    "    def test_should_drop_oldest_memory_on_overflow(self):\n",
    "        memory = ReplayMemory(4)\n",
    "        memory.push(1)\n",
    "        memory.push(2)\n",
    "        memory.push(3)\n",
    "        memory.push(4)\n",
    "        memory.push(5)\n",
    "        \n",
    "        self.assertEqual(list(memory.memory), [5, 4, 3, 2])\n",
    "        \n",
    "    def test_should_sample_with_replacement(self):\n",
    "        memory = ReplayMemory(4)\n",
    "        memory.push(1)\n",
    "        memory.push(2)\n",
    "        memory.push(3)\n",
    "        memory.push(4)\n",
    "        \n",
    "        miniBatch = memory.sample(3, withReplacement=True)\n",
    "        self.assertEqual(len(miniBatch), 3)\n",
    "        \n",
    "        for elem in miniBatch:\n",
    "            self.assertIn(elem, [1, 2, 3, 4])\n",
    "            \n",
    "    def test_should_sample_without_replacement(self):\n",
    "        memory = ReplayMemory(4)\n",
    "        memory.push(1)\n",
    "        memory.push(2)\n",
    "        memory.push(3)\n",
    "        memory.push(4)\n",
    "        \n",
    "        miniBatch = memory.sample(4, withReplacement=False)\n",
    "        miniBatch.sort()\n",
    "        \n",
    "        self.assertEqual(miniBatch.tolist(), [1, 2, 3, 4])\n",
    "    \n",
    "    def test_should_sample_larger_batch_size_with_replacement(self):\n",
    "        memory = ReplayMemory(4)\n",
    "        memory.push(1)\n",
    "        memory.push(2)\n",
    "        \n",
    "        miniBatch = memory.sample(4, withReplacement=True)\n",
    "        \n",
    "        self.assertEqual(len(miniBatch), 4)\n",
    "        for elem in miniBatch:\n",
    "            self.assertIn(elem, [1, 2])\n",
    "    \n",
    "    def test_should_return_none_when_spamling_larger_batch_size_without_replacement(self):\n",
    "        memory = ReplayMemory(4)\n",
    "        memory.push(1)\n",
    "        memory.push(2)\n",
    "        \n",
    "        miniBatch = memory.sample(4, withReplacement=False)\n",
    "        self.assertEqual(miniBatch, None)\n",
    "    \n",
    "    def test_should_handle_memorizing_multidimensional_arrays(self):\n",
    "        memory = ReplayMemory(4)\n",
    "        memory.push([1, 2])\n",
    "        memory.push([3, 4])\n",
    "        \n",
    "        miniBatch = memory.sample(4, withReplacement=True)\n",
    "        \n",
    "        self.assertEqual(len(miniBatch), 4)\n",
    "        for elem in miniBatch:\n",
    "            self.assertTrue((elem == [1, 2]).all() or (elem == [3, 4]).all())\n",
    "    \n",
    "    def test_should_clear_memory(self):\n",
    "        memory = ReplayMemory(4)\n",
    "        memory.push(1)\n",
    "        memory.push(2)\n",
    "        \n",
    "        memory.clear()\n",
    "        self.assertEqual(len(memory.memory), 0)\n",
    "    \n",
    "if __name__ == '__main__':\n",
    "    unittest.main(argv=[''], exit=False)\n"
   ]
  },
  {
   "cell_type": "markdown",
   "metadata": {},
   "source": [
    "## Epsilon Greedy Policy"
   ]
  },
  {
   "cell_type": "markdown",
   "metadata": {},
   "source": [
    "### Implementation"
   ]
  },
  {
   "cell_type": "code",
   "execution_count": 5,
   "metadata": {},
   "outputs": [],
   "source": [
    "import numpy as np\n",
    "import random\n",
    "from collections import namedtuple\n",
    "\n",
    "ActionSelections = namedtuple('ActionSelections', ['indecies', 'values'])\n",
    "\n",
    "class EpsilonGreedyPolicy(object):\n",
    "    \n",
    "    def __init__(self, epsilon, anealing=None, random_engine=random):\n",
    "        self.epsilon = epsilon\n",
    "        self.anealing = anealing\n",
    "        self.random_engine = random_engine\n",
    "    \n",
    "    def select_action(self, action_value_functions, step=None, force=None):\n",
    "        if action_value_functions is None or len(action_value_functions) == 0:\n",
    "            return None\n",
    "        \n",
    "        # Used at selection contains row indecies\n",
    "        row_idx = range(len(action_value_functions))\n",
    "        \n",
    "        # Find index of max column for each row\n",
    "        greedy_actions = np.argmax(action_value_functions, axis=1)\n",
    "\n",
    "        # Find non greedy actions for each row\n",
    "        non_greedy_actions = np.random.choice(len(action_value_functions[0]) - 1, len(action_value_functions))\n",
    "        non_greedy_actions += (non_greedy_actions >= greedy_actions)\n",
    "        \n",
    "        if force == 'exploit':\n",
    "            return ActionSelections(greedy_actions, np.array(action_value_functions)[row_idx, greedy_actions])\n",
    "        elif force == 'explore':\n",
    "            return ActionSelections(non_greedy_actions, np.array(action_value_functions)[row_idx, non_greedy_actions])\n",
    "        \n",
    "        limit = self.epsilon if step is None or self.anealing is None else self.anealing(step)\n",
    "        \n",
    "        if self.random_engine.uniform(0, 1) > limit:\n",
    "            return ActionSelections(greedy_actions, np.array(action_value_functions)[row_idx, greedy_actions])\n",
    "        \n",
    "        return ActionSelections(non_greedy_actions, np.array(action_value_functions)[row_idx, non_greedy_actions])\n",
    "                                                                                                       "
   ]
  },
  {
   "cell_type": "markdown",
   "metadata": {},
   "source": [
    "### Tests"
   ]
  },
  {
   "cell_type": "code",
   "execution_count": 6,
   "metadata": {},
   "outputs": [
    {
     "name": "stderr",
     "output_type": "stream",
     "text": [
      "...................\n",
      "----------------------------------------------------------------------\n",
      "Ran 19 tests in 0.137s\n",
      "\n",
      "OK\n"
     ]
    }
   ],
   "source": [
    "from types import SimpleNamespace\n",
    "import unittest\n",
    "\n",
    "class EpsilonGreedyPolicyTest(unittest.TestCase):\n",
    "    \n",
    "    def test_should_select_greedy_when_forced(self):\n",
    "        e_greedy = EpsilonGreedyPolicy(0.01)\n",
    "        selection = e_greedy.select_action([[0.1, 0.4, 0.2], [0.9, 0.5, 0.1]], force='exploit')\n",
    "        np.testing.assert_allclose(selection.indecies, [1, 0])\n",
    "        np.testing.assert_allclose(selection.values, [0.4, 0.9])\n",
    "        \n",
    "    def test_should_select_explore_when_forced(self):\n",
    "        e_greedy = EpsilonGreedyPolicy(0.01)\n",
    "        selection = e_greedy.select_action([[0.1, 0.4, 0.2], [0.9, 0.5, 0.1]], force='explore')\n",
    "        \n",
    "        self.assertIn(selection.indecies[0], [0, 2])\n",
    "        self.assertIn(selection.indecies[1], [1, 2])\n",
    "        \n",
    "        self.assertIn(selection.values[0], [0.1, 0.2])\n",
    "        self.assertIn(selection.values[1], [0.5, 0.1])\n",
    "    \n",
    "    def test_should_select_greedy_when_random_is_higher_than_epsilon(self):\n",
    "        e_greedy = EpsilonGreedyPolicy(0.1, random_engine=SimpleNamespace(uniform=lambda a, b: 0.2))\n",
    "        selection = e_greedy.select_action([[0.1, 0.4, 0.2], [0.9, 0.5, 0.1]])\n",
    "        np.testing.assert_allclose(selection.indecies, [1, 0])\n",
    "        np.testing.assert_allclose(selection.values, [0.4, 0.9])\n",
    "    \n",
    "    def test_should_select_eploratively_when_random_is_higher_than_epsilon(self):\n",
    "        e_greedy = EpsilonGreedyPolicy(0.1, random_engine=SimpleNamespace(uniform=lambda a, b: 0.05))\n",
    "        selection = e_greedy.select_action([[0.1, 0.4, 0.2], [0.9, 0.5, 0.1]])\n",
    "        \n",
    "        self.assertIn(selection.indecies[0], [0, 2])\n",
    "        self.assertIn(selection.indecies[1], [1, 2])\n",
    "        \n",
    "        self.assertIn(selection.values[0], [0.1, 0.2])\n",
    "        self.assertIn(selection.values[1], [0.5, 0.1])\n",
    "\n",
    "    def test_should_return_none_with_empty_action_value_functions(self):\n",
    "        e_greedy = EpsilonGreedyPolicy(0.01)\n",
    "        self.assertEqual(e_greedy.select_action([], force='exploit'), None)\n",
    "        \n",
    "    def test_should_use_anealing_when_step_is_provided(self):\n",
    "        e_greedy = EpsilonGreedyPolicy(0.1, random_engine=SimpleNamespace(uniform=lambda a, b: 0.4), anealing=lambda step: lerp(1.0, 0.0, step / 10))\n",
    "        selection = e_greedy.select_action([[0.1, 0.4, 0.2], [0.9, 0.5, 0.1]], step=5)\n",
    "        \n",
    "        self.assertIn(selection.indecies[0], [0, 2])\n",
    "        self.assertIn(selection.indecies[1], [1, 2])\n",
    "        \n",
    "        self.assertIn(selection.values[0], [0.1, 0.2])\n",
    "        self.assertIn(selection.values[1], [0.5, 0.1])\n",
    "    \n",
    "    def test_should_ignore_step_if_anealing_not_provided(self):\n",
    "        e_greedy = EpsilonGreedyPolicy(0.1, random_engine=SimpleNamespace(uniform=lambda a, b: 0.2))\n",
    "        selection = e_greedy.select_action([[0.1, 0.4, 0.2], [0.9, 0.5, 0.1]], step=5)\n",
    "        \n",
    "        np.testing.assert_allclose(selection.indecies, [1, 0])\n",
    "        np.testing.assert_allclose(selection.values, [0.4, 0.9])\n",
    "    \n",
    "if __name__ == '__main__':\n",
    "    unittest.main(argv=[''], exit=False)\n"
   ]
  },
  {
   "cell_type": "markdown",
   "metadata": {},
   "source": [
    "## Environment Loop"
   ]
  },
  {
   "cell_type": "markdown",
   "metadata": {},
   "source": [
    "### Implementation"
   ]
  },
  {
   "cell_type": "code",
   "execution_count": 7,
   "metadata": {},
   "outputs": [],
   "source": [
    "import time\n",
    "from tqdm.notebook import tqdm\n",
    "\n",
    "def env_loop(env, agent, episodes, render=False, max_steps_per_episode=None, collect_actions=False):\n",
    "    rewards = []\n",
    "    actions = []\n",
    "    \n",
    "    for i_episode in tqdm(range(episodes), desc='episode'):\n",
    "        episode_rewards = 0\n",
    "        episode_actions = []\n",
    "        \n",
    "        # Initialize the environment and state for the episode\n",
    "        state_t = env.reset()\n",
    "        \n",
    "        i_episode_step = 0\n",
    "        done = False\n",
    "        \n",
    "        while not done and (max_steps_per_episode is None or max_steps_per_episode > i_episode_step):\n",
    "            if render:\n",
    "                env.render()\n",
    "                time.sleep(0.1)\n",
    "            \n",
    "            action_t = agent.select_action(state_t)\n",
    "            state_t1, reward_t, done, _ = env.step(action_t)\n",
    "            \n",
    "            agent.observe([state_t, action_t, reward_t, state_t1])\n",
    "            \n",
    "            episode_rewards += reward_t\n",
    "            \n",
    "            if collect_actions:\n",
    "                episode_actions.append(action_t)\n",
    "            \n",
    "            state_t = state_t1\n",
    "            i_episode_step += 1\n",
    "        \n",
    "        rewards.append(episode_rewards)\n",
    "        \n",
    "        if collect_actions:\n",
    "            actions.append(episode_actions)\n",
    "    \n",
    "    return np.array(rewards), actions"
   ]
  },
  {
   "cell_type": "markdown",
   "metadata": {},
   "source": [
    "### Tests"
   ]
  },
  {
   "cell_type": "code",
   "execution_count": null,
   "metadata": {},
   "outputs": [],
   "source": []
  },
  {
   "cell_type": "markdown",
   "metadata": {},
   "source": [
    "## Deep Q-Network"
   ]
  },
  {
   "cell_type": "markdown",
   "metadata": {},
   "source": [
    "### Implementation"
   ]
  },
  {
   "cell_type": "code",
   "execution_count": 8,
   "metadata": {},
   "outputs": [],
   "source": [
    "import torch\n",
    "import torch.nn as nn\n",
    "\n",
    "class DeepQNetwork(nn.Module):\n",
    "    \n",
    "    def __init__(self, input_dim, hidden_dim, output_dim):\n",
    "        super(DeepQNetwork, self).__init__()\n",
    "        \n",
    "        self.hidden_layer = nn.Linear(input_dim, hidden_dim)\n",
    "        self.hidden_activation_fn = nn.Sigmoid()\n",
    "        \n",
    "        self.output_layer = nn.Linear(hidden_dim, output_dim)\n",
    "        \n",
    "    def forward(self, input_features):\n",
    "        hidden_output = self.hidden_layer(input_features)\n",
    "        hidden_activation = self.hidden_activation_fn(hidden_output)\n",
    "        \n",
    "        return self.output_layer(hidden_activation)"
   ]
  },
  {
   "cell_type": "markdown",
   "metadata": {},
   "source": [
    "### Tests"
   ]
  },
  {
   "cell_type": "code",
   "execution_count": 9,
   "metadata": {},
   "outputs": [
    {
     "name": "stderr",
     "output_type": "stream",
     "text": [
      "....................\n",
      "----------------------------------------------------------------------\n",
      "Ran 20 tests in 0.074s\n",
      "\n",
      "OK\n"
     ]
    }
   ],
   "source": [
    "import unittest\n",
    "\n",
    "class DeepQNetworkTest(unittest.TestCase):\n",
    "    \n",
    "    def test_should_perform_forward_pass(self):\n",
    "        input_features = torch.randn(3, 4)\n",
    "        \n",
    "        deep_q = DeepQNetwork(4, 20, 5)\n",
    "        output = deep_q(input_features)\n",
    "        \n",
    "        self.assertEqual(output.size(), (3, 5))\n",
    "\n",
    "if __name__ == '__main__':\n",
    "    unittest.main(argv=[''], exit=False)\n"
   ]
  },
  {
   "cell_type": "markdown",
   "metadata": {},
   "source": [
    "## Agent"
   ]
  },
  {
   "cell_type": "markdown",
   "metadata": {},
   "source": [
    "### Implementation"
   ]
  },
  {
   "cell_type": "code",
   "execution_count": 10,
   "metadata": {},
   "outputs": [],
   "source": [
    "from collections import namedtuple\n",
    "import torch\n",
    "\n",
    "TrainParams = namedtuple('TrainParams', ['batch_size', 'learning_rate', 'target_update_interval', 'Optimizer'])\n",
    "PolicyParams = namedtuple('PolicyParams', ['e_greedy', 'memory', 'discount_factor', 'make_qnet'])\n",
    "\n",
    "class Agent(object):\n",
    "    \n",
    "    def __init__(self, trainParams, policyParams):\n",
    "        self.e_greedy = policyParams.e_greedy\n",
    "        self.q_net = policyParams.make_qnet()\n",
    "        \n",
    "        self.memory = policyParams.memory\n",
    "        self.discount_factor = policyParams.discount_factor\n",
    "        self.target_update_interval = trainParams.target_update_interval\n",
    "        \n",
    "        self.batch_size = trainParams.batch_size\n",
    "        self.learning_rate = trainParams.learning_rate\n",
    "        self.Optimizer = trainParams.Optimizer\n",
    "        \n",
    "        self.make_qnet = policyParams.make_qnet\n",
    "        \n",
    "        self.train_step = 0\n",
    "        self.state = 'eval'\n",
    "    \n",
    "    def set_state(self, state):\n",
    "        if self.state == state or state not in ['train', 'eval']:\n",
    "            return\n",
    "        \n",
    "        if state == 'train':\n",
    "            self._init_train()\n",
    "        \n",
    "        self.state = state\n",
    "    \n",
    "    def select_action(self, state):\n",
    "        action_values = self.q_net(torch.tensor(state).float())\n",
    "        return self.e_greedy.select_action(\n",
    "            [action_values.detach().numpy()],\n",
    "            force='exploit' if self.state == 'eval' else None,\n",
    "            step=self.train_step if self.state == 'train' else None\n",
    "        ).indecies[0]\n",
    "    \n",
    "    def observe(self, transition):\n",
    "        # No need to do anything unless is training\n",
    "        if self.state != 'train':\n",
    "            return\n",
    "        \n",
    "        # Store observed transition to memory\n",
    "        self.memory.push(transition)\n",
    "        \n",
    "        # Sample minibatch from memory\n",
    "        batch = self.memory.sample(self.batch_size)\n",
    "        \n",
    "        # Don't train until has enough samples\n",
    "        if batch is None:\n",
    "            return\n",
    "        \n",
    "        # Unpack batch\n",
    "        [batch_state_t, batch_action_t, batch_reward_t, batch_state_t1] = batch.T\n",
    "        batch_state_t = np.concatenate(batch_state_t).reshape((-1, 4))\n",
    "        batch_action_t = batch_action_t.astype(np.int32, copy=False)\n",
    "        batch_reward_t = batch_reward_t.astype(np.float32, copy=False)\n",
    "        batch_state_t1 = np.concatenate(batch_state_t1).reshape((-1, 4))\n",
    "        \n",
    "        # Calculate target action values for minibatch\n",
    "        target_action_value_estimates = self.q_net_target(torch.tensor(batch_state_t1).float()).detach().numpy()\n",
    "        y = batch_reward_t + self.discount_factor * self.e_greedy.select_action(target_action_value_estimates, force='exploit').values\n",
    "        \n",
    "        # Reset gradients for training step\n",
    "        self.optimizer.zero_grad()\n",
    "        \n",
    "        # Calculate action values using Q for minibatch\n",
    "        action_value_estimates = self.q_net(torch.tensor(batch_state_t).float())\n",
    "        \n",
    "        # Select action values based on the taken actions\n",
    "        x = action_value_estimates[range(len(action_value_estimates)), batch_action_t]\n",
    "        \n",
    "        # Calculate loss and update weights of Q\n",
    "        loss = self.loss_fn(x, torch.from_numpy(y))\n",
    "        loss.backward()\n",
    "        self.optimizer.step()\n",
    "        \n",
    "        # Every target_update_interval update Q- with weights of Q\n",
    "        if self.train_step % self.target_update_interval == 0:\n",
    "            self.q_net_target.load_state_dict(self.q_net.state_dict())\n",
    "            self.q_net_target.eval()\n",
    "            \n",
    "        # Update training step\n",
    "        self.train_step += 1\n",
    "    \n",
    "    def _init_train(self):\n",
    "        # Clear memory from previous training\n",
    "        self.memory.clear()\n",
    "        \n",
    "        # Make target network, initialize its weights to match Q network weights and set it to eval mode\n",
    "        self.q_net_target = self.make_qnet()\n",
    "        self.q_net_target.load_state_dict(self.q_net.state_dict())\n",
    "        self.q_net_target.eval()\n",
    "    \n",
    "        # Loss function is MSE\n",
    "        self.loss_fn = nn.MSELoss()\n",
    "        self.optimizer = self.Optimizer(self.q_net.parameters(), self.learning_rate)\n",
    "    \n",
    "        self.train_step = 0\n",
    "        "
   ]
  },
  {
   "cell_type": "markdown",
   "metadata": {},
   "source": [
    "## Random Agent Baseline"
   ]
  },
  {
   "cell_type": "code",
   "execution_count": null,
   "metadata": {},
   "outputs": [],
   "source": []
  },
  {
   "cell_type": "markdown",
   "metadata": {},
   "source": [
    "## Train Agent"
   ]
  },
  {
   "cell_type": "code",
   "execution_count": 11,
   "metadata": {},
   "outputs": [],
   "source": [
    "def make_qnet_fn(env):\n",
    "    return lambda: DeepQNetwork(env.observation_space.shape[0], 20, env.action_space.n)"
   ]
  },
  {
   "cell_type": "code",
   "execution_count": 12,
   "metadata": {},
   "outputs": [
    {
     "data": {
      "application/vnd.jupyter.widget-view+json": {
       "model_id": "79da4751d43a4432b9447f38ab9f0da9",
       "version_major": 2,
       "version_minor": 0
      },
      "text/plain": [
       "HBox(children=(HTML(value='episode'), FloatProgress(value=0.0, max=10.0), HTML(value='')))"
      ]
     },
     "metadata": {},
     "output_type": "display_data"
    },
    {
     "name": "stdout",
     "output_type": "stream",
     "text": [
      "\n",
      "baseline actions: [[1, 1, 1, 1, 1, 1, 1, 1, 1], [1, 1, 1, 1, 1, 1, 1, 1, 1], [1, 1, 1, 1, 1, 1, 1, 1, 1, 1], [1, 1, 1, 1, 1, 1, 1, 1, 1], [1, 1, 1, 1, 1, 1, 1, 1, 1], [1, 1, 1, 1, 1, 1, 1, 1, 1, 1], [1, 1, 1, 1, 1, 1, 1, 1, 1, 1], [1, 1, 1, 1, 1, 1, 1, 1, 1, 1], [1, 1, 1, 1, 1, 1, 1, 1, 1, 1], [1, 1, 1, 1, 1, 1, 1, 1, 1, 1]]\n",
      "baseline rewards: [ 9.  9. 10.  9.  9. 10. 10. 10. 10. 10.]\n"
     ]
    },
    {
     "data": {
      "application/vnd.jupyter.widget-view+json": {
       "model_id": "d8d8d59cc17e44a38f29504cbd0b9e5a",
       "version_major": 2,
       "version_minor": 0
      },
      "text/plain": [
       "HBox(children=(HTML(value='episode'), FloatProgress(value=0.0, max=10000.0), HTML(value='')))"
      ]
     },
     "metadata": {},
     "output_type": "display_data"
    },
    {
     "name": "stderr",
     "output_type": "stream",
     "text": [
      "<ipython-input-3-8084a1b09446>:21: VisibleDeprecationWarning: Creating an ndarray from ragged nested sequences (which is a list-or-tuple of lists-or-tuples-or ndarrays with different lengths or shapes) is deprecated. If you meant to do this, you must specify 'dtype=object' when creating the ndarray\n",
      "  return np.array(list(self.memory))[indecies]\n"
     ]
    },
    {
     "name": "stdout",
     "output_type": "stream",
     "text": [
      "\n"
     ]
    },
    {
     "data": {
      "image/png": "[encoded data removed]",
      "text/plain": [
       "<Figure size 432x288 with 1 Axes>"
      ]
     },
     "metadata": {
      "needs_background": "light"
     },
     "output_type": "display_data"
    },
    {
     "data": {
      "application/vnd.jupyter.widget-view+json": {
       "model_id": "b23ce5a70e43496eac0e78d01a0361a1",
       "version_major": 2,
       "version_minor": 0
      },
      "text/plain": [
       "HBox(children=(HTML(value='episode'), FloatProgress(value=0.0, max=10.0), HTML(value='')))"
      ]
     },
     "metadata": {},
     "output_type": "display_data"
    },
    {
     "name": "stdout",
     "output_type": "stream",
     "text": [
      "\n",
      "preview rewards: [10.  9.  9.  9.  9. 10. 10.  9.  8.  9.]\n",
      "preview actions: [[0, 0, 0, 0, 0, 0, 0, 0, 0, 0], [0, 0, 0, 0, 0, 0, 0, 0, 0], [0, 0, 0, 0, 0, 0, 0, 0, 0], [0, 0, 0, 0, 0, 0, 0, 0, 0], [0, 0, 0, 0, 0, 0, 0, 0, 0], [0, 0, 0, 0, 0, 0, 0, 0, 0, 0], [0, 0, 0, 0, 0, 0, 0, 0, 0, 0], [0, 0, 0, 0, 0, 0, 0, 0, 0], [0, 0, 0, 0, 0, 0, 0, 0], [0, 0, 0, 0, 0, 0, 0, 0, 0]]\n"
     ]
    }
   ],
   "source": [
    "import gym\n",
    "import torch.optim as optim\n",
    "import matplotlib.pyplot as plt\n",
    "\n",
    "# Set hyper-parameters\n",
    "# Replay Memory Capacity\n",
    "N = 100\n",
    "\n",
    "train_episodes = 10000\n",
    "preview_episodes = 10\n",
    "discount_rate = 0.9\n",
    "batch_size = 12\n",
    "learning_rate = 0.01\n",
    "target_update_interval = 8\n",
    "\n",
    "# Create environment\n",
    "env = gym.make('CartPole-v0')\n",
    "\n",
    "# Create agent\n",
    "trainParams = TrainParams(\n",
    "    batch_size,\n",
    "    learning_rate,\n",
    "    target_update_interval,\n",
    "    optim.RMSprop\n",
    ")\n",
    "\n",
    "policyParams = PolicyParams(\n",
    "    EpsilonGreedyPolicy(0.1, anealing=lambda step: max(lerp(1.0, 0.1, step / 5000), 0.1)),\n",
    "    ReplayMemory(N),\n",
    "    discount_rate,\n",
    "    make_qnet_fn(env)\n",
    ")\n",
    "\n",
    "agent = Agent(trainParams, policyParams)\n",
    "\n",
    "# Get agent baseline\n",
    "agent.set_state('eval')\n",
    "baseline_rewards, baseline_actions = env_loop(env, agent, preview_episodes, render=False, max_steps_per_episode=200, collect_actions=True)\n",
    "print(f'baseline actions: {baseline_actions}')\n",
    "print(f'baseline rewards: {baseline_rewards}')\n",
    "\n",
    "# Train in env environment\n",
    "agent.set_state('train')\n",
    "train_rewards, train_actions = env_loop(env, agent, train_episodes, render=False, max_steps_per_episode=200)\n",
    "\n",
    "# Visualize training\n",
    "plt.plot(list(range(len(train_rewards))), train_rewards)\n",
    "plt.xlabel('episode')\n",
    "plt.ylabel('reward')\n",
    "plt.show()\n",
    "\n",
    "# Preview learned agent\n",
    "agent.set_state('eval')\n",
    "preview_rewards, preview_actions = env_loop(env, agent, preview_episodes, render=True, max_steps_per_episode=200, collect_actions=True)\n",
    "print(f'preview rewards: {preview_rewards}')\n",
    "print(f'preview actions: {preview_actions}')\n",
    "\n",
    "# Close environment\n",
    "env.close()"
   ]
  },
  {
   "cell_type": "markdown",
   "metadata": {},
   "source": [
    "## Save Agents Q-Model"
   ]
  },
  {
   "cell_type": "code",
   "execution_count": null,
   "metadata": {},
   "outputs": [],
   "source": [
    "import torch\n",
    "import os\n",
    "\n",
    "save_dir = os.path.dirname(os.path.realpath(__file__))\n",
    "torch.save(agent.q_net, os.path.join(save_dir, 'saves', 'qnet.pt'))"
   ]
  },
  {
   "cell_type": "markdown",
   "metadata": {},
   "source": [
    "## Load Agent with Q-Model for evaluation only"
   ]
  },
  {
   "cell_type": "code",
   "execution_count": null,
   "metadata": {},
   "outputs": [],
   "source": [
    "import torch\n",
    "import os\n",
    "\n",
    "agent = Agent(Agent(trainParams, policyParams), policyParams)\n",
    "load_dir = os.path.dirname(os.path.realpath(__file__))\n",
    "agent.q_net.load_state_dict(torch.load(os.path.join(load_dir, 'saves', 'qnet.pt')))"
   ]
  }
 ],
 "metadata": {
  "kernelspec": {
   "display_name": "Python 3",
   "language": "python",
   "name": "python3"
  },
  "language_info": {
   "codemirror_mode": {
    "name": "ipython",
    "version": 3
   },
   "file_extension": ".py",
   "mimetype": "text/x-python",
   "name": "python",
   "nbconvert_exporter": "python",
   "pygments_lexer": "ipython3",
   "version": "3.8.5"
  }
 },
 "nbformat": 4,
 "nbformat_minor": 4
}
